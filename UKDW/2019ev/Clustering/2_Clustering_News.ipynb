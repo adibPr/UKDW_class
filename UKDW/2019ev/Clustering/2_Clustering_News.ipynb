{
 "cells": [
  {
   "cell_type": "code",
   "execution_count": 9,
   "metadata": {},
   "outputs": [],
   "source": [
    "# third parties module\n",
    "import pandas as pd\n",
    "import numpy as np\n",
    "import string\n",
    "import nltk\n",
    "from sklearn.feature_extraction.text import TfidfVectorizer\n",
    "from sklearn.cluster import KMeans\n",
    "\n",
    "# local module\n",
    "from utils import load_data"
   ]
  },
  {
   "cell_type": "code",
   "execution_count": 10,
   "metadata": {},
   "outputs": [
    {
     "name": "stdout",
     "output_type": "stream",
     "text": [
      "alt.atheism\n",
      "comp.graphics\n",
      "comp.os.ms-windows.misc\n",
      "comp.sys.ibm.pc.hardware\n",
      "comp.sys.mac.hardware\n",
      "comp.windows.x\n",
      "misc.forsale\n",
      "rec.autos\n",
      "rec.motorcycles\n",
      "rec.sport.baseball\n",
      "rec.sport.hockey\n",
      "sci.crypt\n",
      "sci.electronics\n",
      "sci.med\n",
      "sci.space\n",
      "soc.religion.christian\n",
      "talk.politics.guns\n",
      "talk.politics.mideast\n",
      "talk.politics.misc\n",
      "talk.religion.misc\n",
      "                                                text                cluster\n",
      "0  I was wondering if anyone out there could enli...              rec.autos\n",
      "1  A fair number of brave souls who upgraded thei...  comp.sys.mac.hardware\n",
      "2  well folks, my mac plus finally gave up the gh...  comp.sys.mac.hardware\n",
      "3  \\nDo you have Weitek's address/phone number?  ...          comp.graphics\n",
      "4  From article <C5owCB.n3p@world.std.com>, by to...              sci.space\n"
     ]
    }
   ],
   "source": [
    "# load data\n",
    "data = load_data ('text')\n",
    "# show some data\n",
    "print ('\\n'.join (np.unique (data['cluster'])))\n",
    "print (data.head (5))"
   ]
  },
  {
   "cell_type": "code",
   "execution_count": 11,
   "metadata": {},
   "outputs": [],
   "source": [
    "# remove stop word and basic preprocessing\n",
    "stopword = nltk.corpus.stopwords.words ('english')\n",
    "punctuation = string.punctuation + '@<?'\n",
    "def preprocessing (text):\n",
    "    # first lowering\n",
    "    text = text.lower ()\n",
    "    # replace punctuation\n",
    "    for punc in punctuation:\n",
    "        text.replace (punc, ' ')\n",
    "    # replace stopwords\n",
    "    words = nltk.word_tokenize (text)\n",
    "    words = [w for w in words if w not in stopword and len (w) >= 3]\n",
    "    \n",
    "    return ' '.join (words)\n",
    "\n",
    "data['token'] = data['text'].apply (preprocessing)    "
   ]
  },
  {
   "cell_type": "code",
   "execution_count": 12,
   "metadata": {},
   "outputs": [
    {
     "name": "stdout",
     "output_type": "stream",
     "text": [
      "(11314, 1000)\n"
     ]
    }
   ],
   "source": [
    "# TF-IDF top 1000 --> normalize\n",
    "vectorizer = TfidfVectorizer (max_features=1000)\n",
    "features = vectorizer.fit_transform (data['token'])\n",
    "print (features.shape)"
   ]
  },
  {
   "cell_type": "code",
   "execution_count": 13,
   "metadata": {},
   "outputs": [
    {
     "name": "stdout",
     "output_type": "stream",
     "text": [
      "Clustering\n"
     ]
    },
    {
     "data": {
      "text/plain": [
       "KMeans(algorithm='auto', copy_x=True, init='k-means++', max_iter=300,\n",
       "       n_clusters=10, n_init=10, n_jobs=None, precompute_distances='auto',\n",
       "       random_state=None, tol=0.0001, verbose=0)"
      ]
     },
     "execution_count": 13,
     "metadata": {},
     "output_type": "execute_result"
    }
   ],
   "source": [
    "# clustering using K-Means\n",
    "km = KMeans (n_clusters=10)\n",
    "print (\"Clustering\")\n",
    "km.fit (features)"
   ]
  },
  {
   "cell_type": "code",
   "execution_count": 14,
   "metadata": {},
   "outputs": [
    {
     "name": "stdout",
     "output_type": "stream",
     "text": [
      "Cluster 0, top centroid : edu soon university cs email\n",
      "Cluster 1, top centroid : would people one like think\n",
      "Cluster 2, top centroid : god jesus bible christ one\n",
      "Cluster 3, top centroid : drive scsi drives hard disk\n",
      "Cluster 4, top centroid : file files windows directory format\n",
      "Cluster 5, top centroid : game team year games players\n",
      "Cluster 6, top centroid : use card video monitor system\n",
      "Cluster 7, top centroid : thanks please anyone mail advance\n",
      "Cluster 8, top centroid : one new like get know\n",
      "Cluster 9, top centroid : windows window dos program use\n"
     ]
    }
   ],
   "source": [
    "# find label by terms used\n",
    "centroid_idx = km.cluster_centers_.argsort ()[:,::-1]\n",
    "terms = vectorizer.get_feature_names ()\n",
    "for k in range (10):\n",
    "    label = []\n",
    "    for t_idx in centroid_idx[k,:5]:\n",
    "        label += [terms[t_idx]]\n",
    "    print (\"Cluster {}, top centroid : {}\".format (k, ' '.join (label)))"
   ]
  },
  {
   "cell_type": "code",
   "execution_count": 15,
   "metadata": {},
   "outputs": [
    {
     "name": "stdout",
     "output_type": "stream",
     "text": [
      "[7 7 6 8 8 8 7 3 6 4]\n",
      "comp.sys.ibm.pc.hardware\n"
     ]
    }
   ],
   "source": [
    "print (km.labels_[:10])\n",
    "print (data.loc[7, 'cluster'])"
   ]
  }
 ],
 "metadata": {
  "kernelspec": {
   "display_name": "Python 3",
   "language": "python",
   "name": "python3"
  },
  "language_info": {
   "codemirror_mode": {
    "name": "ipython",
    "version": 3
   },
   "file_extension": ".py",
   "mimetype": "text/x-python",
   "name": "python",
   "nbconvert_exporter": "python",
   "pygments_lexer": "ipython3",
   "version": "3.7.3"
  }
 },
 "nbformat": 4,
 "nbformat_minor": 2
}
