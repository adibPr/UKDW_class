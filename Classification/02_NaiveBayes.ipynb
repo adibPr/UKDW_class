{
 "cells": [
  {
   "cell_type": "code",
   "execution_count": 2,
   "metadata": {},
   "outputs": [],
   "source": [
    "# sys module\n",
    "import os\n",
    "import sys\n",
    "import nltk\n",
    "from nltk.corpus import stopwords\n",
    "from nltk.classify import naivebayes\n",
    "import string\n",
    "\n",
    "# third parties module\n",
    "import pandas as pd\n",
    "\n",
    "# local module\n",
    "from data import load_data_sentiment, load_lexicon_sentiment"
   ]
  },
  {
   "cell_type": "code",
   "execution_count": 3,
   "metadata": {},
   "outputs": [],
   "source": [
    "data = load_data_sentiment ()"
   ]
  },
  {
   "cell_type": "code",
   "execution_count": 4,
   "metadata": {},
   "outputs": [],
   "source": [
    "# preprocessing\n",
    "# remove stop words and puctuation\n",
    "stopword = stopwords.words ('english')\n",
    "def preprocessing (comment):\n",
    "    # remove punctuation\n",
    "    for p in string.punctuation:\n",
    "        comment = comment.replace (p, ' ')  \n",
    "    # tokenize\n",
    "    words = set (nltk.word_tokenize (comment.lower ()))\n",
    "    # remove char less than 3\n",
    "    words = set ([w for w in words if len (w) > 3])  \n",
    "    # remove stopwords\n",
    "    words = words - set (stopword)\n",
    "    \n",
    "    return words\n",
    "\n",
    "data['word'] = data['comment'].apply (preprocessing)\n"
   ]
  },
  {
   "cell_type": "code",
   "execution_count": 5,
   "metadata": {},
   "outputs": [
    {
     "data": {
      "text/plain": [
       "{'distressed': True,\n",
       " 'slow': True,\n",
       " 'drifting': True,\n",
       " 'movie': True,\n",
       " 'moving': True,\n",
       " 'aimless': True,\n",
       " 'young': True}"
      ]
     },
     "execution_count": 5,
     "metadata": {},
     "output_type": "execute_result"
    }
   ],
   "source": [
    "# feature extraction\n",
    "def extract_feature (word):\n",
    "    feature = {}\n",
    "    for w in word:\n",
    "        feature[w] = True\n",
    "    return feature\n",
    "data['feature'] = data['word'].apply (extract_feature)\n",
    "data.loc[0, 'feature']"
   ]
  },
  {
   "cell_type": "code",
   "execution_count": 6,
   "metadata": {},
   "outputs": [],
   "source": [
    "# create classifier\n",
    "classifier = naivebayes.NaiveBayesClassifier.train (data[['feature', 'sentiment']].values)"
   ]
  },
  {
   "cell_type": "code",
   "execution_count": 7,
   "metadata": {},
   "outputs": [
    {
     "name": "stdout",
     "output_type": "stream",
     "text": [
      "Most Informative Features\n",
      "               wonderful = True                1 : 0      =     10.9 : 1.0\n",
      "                   waste = True                0 : 1      =      8.9 : 1.0\n",
      "                  stupid = True                0 : 1      =      8.9 : 1.0\n",
      "                 nothing = True                0 : 1      =      7.5 : 1.0\n",
      "                  played = True                1 : 0      =      5.9 : 1.0\n",
      "                   loved = True                1 : 0      =      5.3 : 1.0\n",
      "                   liked = True                1 : 0      =      5.3 : 1.0\n",
      "                   would = True                0 : 1      =      5.0 : 1.0\n",
      "                   white = True                1 : 0      =      4.7 : 1.0\n",
      "                   makes = True                1 : 0      =      4.7 : 1.0\n",
      "                   lines = True                0 : 1      =      4.6 : 1.0\n",
      "                    girl = True                0 : 1      =      4.6 : 1.0\n",
      "                  action = True                0 : 1      =      4.6 : 1.0\n",
      "                    mess = True                0 : 1      =      4.6 : 1.0\n",
      "               excellent = True                1 : 0      =      4.3 : 1.0\n",
      "                    show = True                0 : 1      =      4.1 : 1.0\n",
      "                  family = True                1 : 0      =      4.1 : 1.0\n",
      "                    cool = True                1 : 0      =      4.1 : 1.0\n",
      "                    even = True                0 : 1      =      4.1 : 1.0\n",
      "                    plot = True                0 : 1      =      4.0 : 1.0\n",
      "             performance = True                1 : 0      =      3.9 : 1.0\n",
      "                    half = True                0 : 1      =      3.9 : 1.0\n",
      "            disappointed = True                0 : 1      =      3.9 : 1.0\n",
      "                    slow = True                0 : 1      =      3.9 : 1.0\n",
      "                    didn = True                0 : 1      =      3.8 : 1.0\n",
      "                terrible = True                0 : 1      =      3.6 : 1.0\n",
      "                   worse = True                0 : 1      =      3.6 : 1.0\n",
      "                   funny = True                1 : 0      =      3.6 : 1.0\n",
      "                   great = True                1 : 0      =      3.5 : 1.0\n",
      "                 perfect = True                1 : 0      =      3.4 : 1.0\n",
      "                  subtle = True                1 : 0      =      3.4 : 1.0\n",
      "                  mostly = True                1 : 0      =      3.4 : 1.0\n",
      "                    nice = True                1 : 0      =      3.4 : 1.0\n",
      "               portrayal = True                1 : 0      =      3.4 : 1.0\n",
      "                   lacks = True                0 : 1      =      3.2 : 1.0\n",
      "                horrible = True                0 : 1      =      3.2 : 1.0\n",
      "                   fails = True                0 : 1      =      3.2 : 1.0\n",
      "                    crap = True                0 : 1      =      3.2 : 1.0\n",
      "                   avoid = True                0 : 1      =      3.2 : 1.0\n",
      "                    away = True                0 : 1      =      3.2 : 1.0\n",
      "                  beyond = True                0 : 1      =      3.2 : 1.0\n",
      "                  almost = True                0 : 1      =      3.2 : 1.0\n",
      "                  little = True                0 : 1      =      3.2 : 1.0\n",
      "                    lame = True                0 : 1      =      3.2 : 1.0\n",
      "                 started = True                0 : 1      =      3.2 : 1.0\n",
      "                   guess = True                0 : 1      =      3.2 : 1.0\n",
      "                    much = True                0 : 1      =      3.2 : 1.0\n",
      "                    word = True                0 : 1      =      3.2 : 1.0\n",
      "                    give = True                1 : 0      =      3.2 : 1.0\n",
      "                actually = True                1 : 0      =      3.2 : 1.0\n"
     ]
    }
   ],
   "source": [
    "# most important feature\n",
    "classifier.show_most_informative_features (50)"
   ]
  },
  {
   "cell_type": "code",
   "execution_count": 8,
   "metadata": {},
   "outputs": [],
   "source": [
    "# predict\n",
    "data['prediction'] = data['feature'].apply (classifier.classify)"
   ]
  },
  {
   "cell_type": "code",
   "execution_count": 10,
   "metadata": {},
   "outputs": [
    {
     "name": "stdout",
     "output_type": "stream",
     "text": [
      "   sentiment  prediction\n",
      "0          0           0\n",
      "1          0           0\n",
      "2          0           0\n",
      "3          0           0\n",
      "4          1           1\n",
      "Accuracy : 0.96\n"
     ]
    }
   ],
   "source": [
    "# show between target and prediction\n",
    "print (data[['sentiment', 'prediction']].head (5))\n",
    "data['is_true'] = (data['sentiment'] == data['prediction']).astype (int)\n",
    "accuracy = sum (data['is_true']) / data.shape[0]\n",
    "print (\"Accuracy : {:.2F}\".format (accuracy))"
   ]
  }
 ],
 "metadata": {
  "kernelspec": {
   "display_name": "Python 3",
   "language": "python",
   "name": "python3"
  },
  "language_info": {
   "codemirror_mode": {
    "name": "ipython",
    "version": 3
   },
   "file_extension": ".py",
   "mimetype": "text/x-python",
   "name": "python",
   "nbconvert_exporter": "python",
   "pygments_lexer": "ipython3",
   "version": "3.6.8"
  }
 },
 "nbformat": 4,
 "nbformat_minor": 2
}
