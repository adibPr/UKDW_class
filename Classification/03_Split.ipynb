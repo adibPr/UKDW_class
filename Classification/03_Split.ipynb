{
 "cells": [
  {
   "cell_type": "code",
   "execution_count": 1,
   "metadata": {},
   "outputs": [],
   "source": [
    "# sys module\n",
    "import os\n",
    "import sys\n",
    "import nltk\n",
    "from sklearn.model_selection import train_test_split \n",
    "from nltk.corpus import stopwords\n",
    "from nltk.classify import naivebayes\n",
    "import string\n",
    "\n",
    "# third parties module\n",
    "import pandas as pd\n",
    "\n",
    "# local module\n",
    "from data import load_data_sentiment, load_lexicon_sentiment"
   ]
  },
  {
   "cell_type": "code",
   "execution_count": 16,
   "metadata": {},
   "outputs": [],
   "source": [
    "data = load_data_sentiment ()"
   ]
  },
  {
   "cell_type": "code",
   "execution_count": 17,
   "metadata": {},
   "outputs": [
    {
     "name": "stdout",
     "output_type": "stream",
     "text": [
      "(420, 2)\n",
      "(187, 2)\n",
      "(141, 2)\n"
     ]
    }
   ],
   "source": [
    "# split train, val, test\n",
    "train, test = train_test_split (data)\n",
    "train = train.reset_index (drop=True)\n",
    "test = test.reset_index (drop=True)\n",
    "train, valid = train_test_split (train)\n",
    "train = train.reset_index (drop=True)\n",
    "valid = valid.reset_index (drop=True)\n",
    "print (train.shape)\n",
    "print (test.shape)\n",
    "print (valid.shape)\n",
    "# introduction to K-Fold\n",
    "# confusion Matrix, F1-Metrics"
   ]
  },
  {
   "cell_type": "code",
   "execution_count": 18,
   "metadata": {},
   "outputs": [],
   "source": [
    "stopword = stopwords.words ('english')\n",
    "def preprocessing (comment):\n",
    "    # remove punctuation\n",
    "    #for p in string.punctuation:\n",
    "    #    comment = comment.replace (p, ' ')  \n",
    "    # tokenize\n",
    "    words = set (nltk.word_tokenize (comment.lower ()))\n",
    "    # remove char less than 3\n",
    "    words = set ([w for w in words if len (w) > 3])  \n",
    "    # remove stopwords\n",
    "    words = words - set (stopword)\n",
    "    \n",
    "    return words\n",
    "\n",
    "# feature extraction\n",
    "def extract_feature (word):\n",
    "    feature = {}\n",
    "    for w in word:\n",
    "        feature[w] = True\n",
    "    return feature"
   ]
  },
  {
   "cell_type": "code",
   "execution_count": 19,
   "metadata": {},
   "outputs": [],
   "source": [
    "train['word'] = train['comment'].apply (preprocessing)\n",
    "train['feature'] = train['word'].apply (extract_feature)"
   ]
  },
  {
   "cell_type": "code",
   "execution_count": 20,
   "metadata": {},
   "outputs": [
    {
     "name": "stdout",
     "output_type": "stream",
     "text": [
      "Most Informative Features\n",
      "                    plot = True                0 : 1      =      5.2 : 1.0\n",
      "                terrible = True                0 : 1      =      4.8 : 1.0\n",
      "                 nothing = True                0 : 1      =      4.8 : 1.0\n",
      "                    show = True                0 : 1      =      4.8 : 1.0\n",
      "                    make = True                0 : 1      =      4.8 : 1.0\n",
      "               excellent = True                1 : 0      =      4.5 : 1.0\n",
      "                   liked = True                1 : 0      =      4.5 : 1.0\n",
      "                    love = True                1 : 0      =      4.4 : 1.0\n",
      "                  things = True                0 : 1      =      4.1 : 1.0\n",
      "                   would = True                0 : 1      =      4.0 : 1.0\n"
     ]
    }
   ],
   "source": [
    "classifier = naivebayes.NaiveBayesClassifier.train (train[['feature', 'sentiment']].values)\n",
    "classifier.show_most_informative_features (10)"
   ]
  },
  {
   "cell_type": "code",
   "execution_count": 21,
   "metadata": {},
   "outputs": [],
   "source": [
    "valid['word'] = valid['comment'].apply (preprocessing)\n",
    "valid['feature'] = valid['word'].apply (extract_feature)"
   ]
  },
  {
   "cell_type": "code",
   "execution_count": 22,
   "metadata": {},
   "outputs": [
    {
     "name": "stdout",
     "output_type": "stream",
     "text": [
      "Accuracy : 0.79\n"
     ]
    }
   ],
   "source": [
    "# predict\n",
    "valid['prediction'] = valid['feature'].apply (classifier.classify)\n",
    "# show between target and prediction\n",
    "valid['is_true'] = (valid['sentiment'] == valid['prediction']).astype (int)\n",
    "accuracy = sum (valid['is_true']) / valid.shape[0]\n",
    "print (\"Accuracy : {:.2F}\".format (accuracy))"
   ]
  },
  {
   "cell_type": "code",
   "execution_count": 23,
   "metadata": {},
   "outputs": [],
   "source": [
    "# After fine tuned the parameter use test data only ONCE\n",
    "test['word'] = test['comment'].apply (preprocessing)\n",
    "test['feature'] = test['word'].apply (extract_feature)"
   ]
  },
  {
   "cell_type": "code",
   "execution_count": 24,
   "metadata": {},
   "outputs": [
    {
     "name": "stdout",
     "output_type": "stream",
     "text": [
      "Accuracy : 0.76\n"
     ]
    }
   ],
   "source": [
    "# predict\n",
    "test['prediction'] = test['feature'].apply (classifier.classify)\n",
    "# show between target and prediction\n",
    "test['is_true'] = (test['sentiment'] == test['prediction']).astype (int)\n",
    "accuracy = sum (test['is_true']) / test.shape[0]\n",
    "print (\"Accuracy : {:.2F}\".format (accuracy))"
   ]
  },
  {
   "cell_type": "code",
   "execution_count": 25,
   "metadata": {},
   "outputs": [],
   "source": [
    "# using KFold\n",
    "from sklearn.model_selection import KFold, StratifiedKFold\n",
    "\n",
    "kfold = StratifiedKFold (n_splits=5, shuffle=True)\n",
    "\n",
    "folds = kfold.split (data, data['sentiment'])\n",
    "for train_idx, valid_idx in folds:\n",
    "    ftrain  = data.loc[train_idx]\n",
    "    ftrain = train.reset_index (drop=True)\n",
    "    \n",
    "    fvalid = data.loc[valid_idx]\n",
    "    fvalid = valid.reset_index (drop=True)\n",
    "    \n",
    "    # training with model\n",
    "    # test with valid\n",
    "# average"
   ]
  },
  {
   "cell_type": "code",
   "execution_count": 26,
   "metadata": {},
   "outputs": [
    {
     "name": "stdout",
     "output_type": "stream",
     "text": [
      "[[56 11]\n",
      " [18 56]]\n",
      "0.7943262411347517\n"
     ]
    }
   ],
   "source": [
    "from sklearn.metrics import confusion_matrix, f1_score\n",
    "print (confusion_matrix (valid['sentiment'], valid['prediction'], labels=[0, 1]))\n",
    "\n",
    "print (f1_score (valid['sentiment'], valid['prediction'], pos_label=0))"
   ]
  }
 ],
 "metadata": {
  "kernelspec": {
   "display_name": "Python 3",
   "language": "python",
   "name": "python3"
  },
  "language_info": {
   "codemirror_mode": {
    "name": "ipython",
    "version": 3
   },
   "file_extension": ".py",
   "mimetype": "text/x-python",
   "name": "python",
   "nbconvert_exporter": "python",
   "pygments_lexer": "ipython3",
   "version": "3.6.6"
  }
 },
 "nbformat": 4,
 "nbformat_minor": 2
}
