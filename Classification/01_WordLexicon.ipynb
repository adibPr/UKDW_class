{
 "cells": [
  {
   "cell_type": "code",
   "execution_count": 1,
   "metadata": {},
   "outputs": [],
   "source": [
    "# sys module\n",
    "import os\n",
    "import sys\n",
    "import nltk\n",
    "\n",
    "# third parties module\n",
    "import pandas as pd\n",
    "\n",
    "# local module\n",
    "from data import load_data_sentiment, load_lexicon_sentiment"
   ]
  },
  {
   "cell_type": "code",
   "execution_count": 2,
   "metadata": {},
   "outputs": [],
   "source": [
    "data = load_data_sentiment ()\n",
    "senti_word = load_lexicon_sentiment ()"
   ]
  },
  {
   "cell_type": "code",
   "execution_count": 10,
   "metadata": {},
   "outputs": [
    {
     "name": "stdout",
     "output_type": "stream",
     "text": [
      "                                             comment  sentiment\n",
      "0  A very, very, very slow-moving, aimless movie ...          0\n",
      "1  Not sure who was more lost - the flat characte...          0\n",
      "2  Attempting artiness with black & white and cle...          0\n",
      "3       Very little music or anything to speak of.            0\n",
      "4  The best scene in the movie was when Gerardo i...          1\n",
      "\n",
      "A very, very, very slow-moving, aimless movie about a distressed, drifting young man.  \n",
      "\n",
      "                                              comment  sentiment\n",
      "4   The best scene in the movie was when Gerardo i...          1\n",
      "7   Saw the movie today and thought it was a good ...          1\n",
      "9   Loved the casting of Jimmy Buffet as the scien...          1\n",
      "10               And those baby owls were adorable.            1\n",
      "11  The movie showed a lot of Florida at it's best...          1\n",
      "\n",
      "Loved the casting of Jimmy Buffet as the science teacher.  \n",
      "\n"
     ]
    }
   ],
   "source": [
    "# see the first 5 row of data\n",
    "print (data.head (5)); print ()\n",
    "\n",
    "# print clearly the first row\n",
    "print (data.loc[0, 'comment']); print ()\n",
    "\n",
    "# print the negative row\n",
    "print (data[ data['sentiment'] == 1 ].head (5)); print ()\n",
    "# print clearly one positive row\n",
    "print (data.loc[9, 'comment']); print ()"
   ]
  },
  {
   "cell_type": "code",
   "execution_count": 11,
   "metadata": {},
   "outputs": [],
   "source": [
    "data['words'] = data['comment'].apply (lambda com: nltk.word_tokenize (com.lower ()))"
   ]
  },
  {
   "cell_type": "code",
   "execution_count": 12,
   "metadata": {},
   "outputs": [],
   "source": [
    "data['positive_word'] = data['words'].apply (lambda word : set (word) & set (senti_word['positive']))\n",
    "data['negative_word'] = data['words'].apply (lambda word : set (word) & set (senti_word['negative']))"
   ]
  },
  {
   "cell_type": "code",
   "execution_count": 13,
   "metadata": {},
   "outputs": [
    {
     "name": "stdout",
     "output_type": "stream",
     "text": [
      "A very, very, very slow-moving, aimless movie about a distressed, drifting young man.  \n",
      "set()\n",
      "{'slow-moving', 'distressed', 'aimless'}\n"
     ]
    }
   ],
   "source": [
    "# show 1 row of all field\n",
    "print (data.loc[0, 'comment'])\n",
    "print (data.loc[0, 'positive_word'])\n",
    "print (data.loc[0, 'negative_word'])"
   ]
  },
  {
   "cell_type": "code",
   "execution_count": 15,
   "metadata": {},
   "outputs": [
    {
     "name": "stdout",
     "output_type": "stream",
     "text": [
      "Accuracy : 0.75\n"
     ]
    }
   ],
   "source": [
    "# create simple classification based on total word\n",
    "def predict (row):\n",
    "    if len (row['positive_word']) >= len (row['negative_word']):\n",
    "        return 1\n",
    "    else :\n",
    "        return 0\n",
    "\n",
    "data['prediction'] = data.apply (predict, axis=1)\n",
    "\n",
    "# check the result\n",
    "data[['sentiment', 'prediction']]\n",
    "\n",
    "# check accuracy\n",
    "data['is_true'] = (data['sentiment'] == data['prediction']).astype (int)\n",
    "accuracy = sum (data['is_true']) / data.shape[0]\n",
    "print (\"Accuracy : {:.2F}\".format (accuracy))"
   ]
  }
 ],
 "metadata": {
  "kernelspec": {
   "display_name": "Python 3",
   "language": "python",
   "name": "python3"
  },
  "language_info": {
   "codemirror_mode": {
    "name": "ipython",
    "version": 3
   },
   "file_extension": ".py",
   "mimetype": "text/x-python",
   "name": "python",
   "nbconvert_exporter": "python",
   "pygments_lexer": "ipython3",
   "version": "3.6.6"
  }
 },
 "nbformat": 4,
 "nbformat_minor": 2
}
